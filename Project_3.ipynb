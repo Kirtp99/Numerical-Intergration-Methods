{
 "cells": [
  {
   "cell_type": "markdown",
   "metadata": {},
   "source": [
    "# Using Numerical Intergration Methods to Calculate Constants and Uncertainty Values in Quantum Mechanics"
   ]
  },
  {
   "cell_type": "markdown",
   "metadata": {},
   "source": [
    "# Introduction"
   ]
  },
  {
   "cell_type": "markdown",
   "metadata": {},
   "source": [
    "This report will focus on the calculation of expectation values of position or momentum and their respective uncertainties and finding the values of unknown constants in the wavefunctions using the normalisation conditions. \n",
    "\n",
    "\n",
    "We will consider a 1D finite potential well, the general form of the wavefunction is known in each region however each wave function has an unknown constant which can be found using the normalisation condition (eq 1). Once we have found the value of these unkown constants the expectation values can be calculated using equation 2. These values can then be used to find the uncertainties in position (eq 3). The product of the uncertainties must be greater than $\\frac{\\hbar}{2}$ (eq 4), this can be used to approximate the uncertainty in momentum.  \n",
    "\n",
    "\n",
    "**Equations**\n",
    "\n",
    "1. Normalisation Condition $\\int_{-\\infty}^{+\\infty}{(\\Psi^{*}\\Psi) dx} = 1$\n",
    "\n",
    "2. Expectation Value of x $ <x> = \\int_{-\\infty}^{+\\infty}{(\\Psi^{*}x\\Psi) dx}$  $\\space \\space \\large $ \n",
    "\n",
    "3. Uncertainty in x $ \\Delta x = \\sqrt{<x^{2}> - <x>^{2}}$\n",
    "\n",
    "4. Uncertainty Relation $\\Delta p .\\Delta x\\geq \\frac{\\hbar}{2}$"
   ]
  },
  {
   "cell_type": "markdown",
   "metadata": {},
   "source": [
    "# Method"
   ]
  },
  {
   "cell_type": "markdown",
   "metadata": {},
   "source": [
    "The methods of numerical integration we are going to use in this reports are the Trapezium rule, Simpson's rule and Monte-Carlo integration. The `quad` function from `scipy.integrate` will also be used for comparative purposes. More details about each numerical integration method will be located under their own specific section.   \n",
    "\n",
    "Each function will be coded, then tested using a cosine and exponential function. The values of the integral calclulated for these functions are well known and will indicate any issues in the coded functions. After testing the functions can be apllied. \n"
   ]
  },
  {
   "cell_type": "markdown",
   "metadata": {},
   "source": [
    "# Coding each Numerical integration Method"
   ]
  },
  {
   "cell_type": "code",
   "execution_count": 1,
   "metadata": {},
   "outputs": [],
   "source": [
    "import numpy as np\n",
    "from scipy.integrate import quad\n",
    "from scipy import random\n",
    "from scipy.special import factorial as fac\n",
    "import matplotlib.pyplot as plt"
   ]
  },
  {
   "cell_type": "markdown",
   "metadata": {},
   "source": [
    "### Test Functions\n",
    "\n",
    "The test functions:\n",
    "\n",
    "1. $f(x) = cos(x)$\n",
    "2. $f(x) = e^{-x}$\n",
    "\n",
    "We know that $\\int^{\\frac{\\pi}{2}}_{0}{cos(x)}dx = 1$ and $\\int^{+\\infty}_{0}{e^{-x}}dx = 1$."
   ]
  },
  {
   "cell_type": "code",
   "execution_count": 2,
   "metadata": {},
   "outputs": [],
   "source": [
    "def cos(x):\n",
    "    return np.cos(x)\n",
    "\n",
    "def e(x):\n",
    "    return np.exp(-x)\n",
    "\n",
    "maxim = 1000"
   ]
  },
  {
   "cell_type": "markdown",
   "metadata": {},
   "source": [
    "### Trapezium and Simpson Rule\n",
    "\n",
    "The Trapezium Rule and the Simpson Rule are two simple methods of integration. Both methods are very similar wth the expection of thier weighting. The function below works for both trapezium and simpson. One of the function parameters is a string stating the type of method required which can either be `'sim'`(for simpsons method) or `'trap'`(for trapezuim method). The function contains a branch and will weight respectively. If the bounds entered are improper the function tries to create an `x` array of infinite length. This will only affect the wavefunction outside the well as the wavefunction exponentially decays. \n",
    "\n",
    "\n",
    "The weighting arrays $V$ for the trapezium and Simpson rule are:   \n",
    "\n",
    "1. $V_{Trapezium} = (\\tfrac12, 1, 1, \\dots, 1, \\tfrac12)$\n",
    "\n",
    "2. $V_{Simpson} = \\tfrac13\\times(1, 4, 2, 4, 2, \\dots, 4, 2, 4, 1)$\n"
   ]
  },
  {
   "cell_type": "code",
   "execution_count": 3,
   "metadata": {},
   "outputs": [],
   "source": [
    "def trapson(function, step, bounds, method):\n",
    "    \"\"\"Integrates using the trapezium rule or the simpson rule. \n",
    "       Inputs are a function of x, the step size and the bounds, a tuple in the format bounds = (lower, upper)\n",
    "       enter method as string: either 'sim for simpson or 'trap' for trapezium \"\"\"\n",
    "     \n",
    "    lb, ub = bounds\n",
    "    \n",
    "    if ub == np.inf:\n",
    "        ub = maxim\n",
    "        \n",
    "    if lb == -np.inf:\n",
    "        lb = -maxim\n",
    "    \n",
    "    if ub == -np.inf:\n",
    "        ub = -maxim\n",
    "        \n",
    "    if lb == np.inf:\n",
    "        lb = maxim\n",
    "         \n",
    "    x = np.linspace(lb, ub, (abs(ub - lb) / step))\n",
    "    y = function(x)\n",
    "    \n",
    "    if method == 'trap':\n",
    "        v = np.ones(len(x))\n",
    "        v[0] = (1 / 2)\n",
    "        v[-1] = (1 / 2)\n",
    "    \n",
    "    elif method == 'sim':\n",
    "        v = np.ones([len(x)])\n",
    "        v[::2]=2\n",
    "        v[1::2]=4\n",
    "        v[0]=1\n",
    "        v[-1]=1\n",
    "        v = v / 3\n",
    "    \n",
    "    I = step * np.sum(y * v)\n",
    "    \n",
    "    return abs(I)"
   ]
  },
  {
   "cell_type": "markdown",
   "metadata": {},
   "source": [
    "***Testing the Simpson and Trapezium methods***"
   ]
  },
  {
   "cell_type": "code",
   "execution_count": 4,
   "metadata": {},
   "outputs": [
    {
     "name": "stderr",
     "output_type": "stream",
     "text": [
      "C:\\Users\\patel\\Anaconda3\\lib\\site-packages\\ipykernel_launcher.py:20: DeprecationWarning: object of type <class 'float'> cannot be safely interpreted as an integer.\n"
     ]
    },
    {
     "name": "stdout",
     "output_type": "stream",
     "text": [
      "0.9999983334027783 error = 1.6665972216722835e-06\n",
      "10.3 ms ± 717 µs per loop (mean ± std. dev. of 7 runs, 100 loops each)\n",
      "0.9999900000555566 error = 9.999944443395137e-06\n",
      "9.01 ms ± 358 µs per loop (mean ± std. dev. of 7 runs, 100 loops each)\n"
     ]
    }
   ],
   "source": [
    "t1 = trapson(e, 0.01, (0, np.inf), 'trap')\n",
    "t2 = trapson(e, 0.01, (0, np.inf), 'sim')\n",
    "\n",
    "\n",
    "print(t1, 'error =', abs(1 - t1))\n",
    "%timeit t1 = trapson(e, 0.01, (0, np.inf), 'trap')\n",
    "print(t2,'error =', abs(1 - t2))\n",
    "%timeit t2 = trapson(e, 0.01, (0, np.inf), 'sim')"
   ]
  },
  {
   "cell_type": "code",
   "execution_count": 5,
   "metadata": {},
   "outputs": [
    {
     "name": "stderr",
     "output_type": "stream",
     "text": [
      "C:\\Users\\patel\\Anaconda3\\lib\\site-packages\\ipykernel_launcher.py:20: DeprecationWarning: object of type <class 'float'> cannot be safely interpreted as an integer.\n"
     ]
    },
    {
     "name": "stdout",
     "output_type": "stream",
     "text": [
      "0.9931184538732284 error = 0.006881546126771609\n",
      "49.9 µs ± 1.94 µs per loop (mean ± std. dev. of 7 runs, 10000 loops each)\n",
      "0.9931268449501447 error = 0.006873155049855306\n",
      "73.6 µs ± 26.9 µs per loop (mean ± std. dev. of 7 runs, 10000 loops each)\n"
     ]
    }
   ],
   "source": [
    "t3 = trapson(cos, 0.01, (0, np.pi / 2), 'trap')\n",
    "t4 = trapson(cos, 0.01, (0, np.pi / 2), 'sim')\n",
    "\n",
    "print(t3, 'error =', abs(1 - t3))\n",
    "%timeit trapson(cos, 0.01, (0, np.pi / 2), 'trap')\n",
    "print(t4,'error =', abs(1 - t4))\n",
    "%timeit trapson(cos, 0.01, (0, np.pi / 2), 'sim')"
   ]
  },
  {
   "cell_type": "markdown",
   "metadata": {},
   "source": [
    "### Monte-Carlo Integration\n",
    "\n",
    "This methos of integration uses a sample of random numbers along with the formula for the average value of a function in order to approximate the value of an integral. This method is only precise if ran repeatedly, furthermore a normal distribution can be viewed to determine the modal value. Accuracy can be increased by increasing the number of runs.\n",
    "\n",
    "The average value of a function, $f$, is\n",
    "\n",
    "$\\large \\overline{f} = \\frac{1}{b-a}\\int_a^b f(x)\\;\\mathrm{dx}$\n",
    "\n",
    "by rearranging we obtain:\n",
    "\n",
    "$\\large\\overline{f}\\times\\frac{1}{b-a}$   $=    \\int_a^b f(x)\\;\\mathrm{dx}$\n",
    "\n",
    "$\\overline{f}$ can then be defined as $\\overline{f}$ = $(b-a)\\frac{1}{N}\\sum_{i}^{N}{f(x_{i})}$ giving:\n",
    "\n",
    "$\\large\\int_a^b f(x)\\;\\mathrm{dx}$ = $(b-a)\\frac{1}{N}\\sum_{i}^{N}{f(x_{i})}$ $[1]$\n",
    "\n"
   ]
  },
  {
   "cell_type": "code",
   "execution_count": 6,
   "metadata": {},
   "outputs": [],
   "source": [
    "def mc(function, bounds, no_runs):\n",
    "    \"\"\"Returns the value of an integral using the Monte-Carlo method. \n",
    "        Inputs are a function, the bounds, a tuple in the form (lower, upper) and no_runs, \n",
    "        the number of times you wish to integrate and average. 1000 to 1500 is ideal.\"\"\"\n",
    "    \n",
    "    lb, ub = bounds\n",
    "    \n",
    "    if ub == np.inf:\n",
    "        ub = maxim\n",
    "        \n",
    "    if lb == -np.inf:\n",
    "        lb = -maxim\n",
    "    \n",
    "    if ub == -np.inf:\n",
    "        ub = -maxim\n",
    "        \n",
    "    if lb == np.inf:\n",
    "        lb = maxim\n",
    "            \n",
    "    \n",
    "    def integrate(a, b, N):\n",
    "        \n",
    "        ran = random.uniform(a, b, N)\n",
    "\n",
    "        I = 0.0\n",
    "\n",
    "        for j in range(no_runs):\n",
    "                I += function(ran[j])\n",
    "    \n",
    "\n",
    "        result = ((b - a) / float(N)) * I\n",
    "        return result\n",
    "    \n",
    "    area = []\n",
    "    \n",
    "    for i in range(no_runs):\n",
    "        \n",
    "        I = integrate(lb, ub, no_runs)\n",
    "        area.append(I)\n",
    "    \n",
    "    area = np.array(area)\n",
    "    \n",
    "    average = np.sum(area) / len(area)\n",
    "    \n",
    "    return average\n",
    "    "
   ]
  },
  {
   "cell_type": "code",
   "execution_count": 7,
   "metadata": {},
   "outputs": [
    {
     "name": "stdout",
     "output_type": "stream",
     "text": [
      "1.67 s ± 23.6 ms per loop (mean ± std. dev. of 7 runs, 1 loop each)\n",
      "1.0206359310383695 error = 0.02063593103836947\n"
     ]
    }
   ],
   "source": [
    "t5 = mc(e, (0, np.inf), 1000)\n",
    "%timeit mc(e, (0, np.inf), 1000)\n",
    "print(t5, 'error =', abs(1 - t5))"
   ]
  },
  {
   "cell_type": "code",
   "execution_count": 8,
   "metadata": {},
   "outputs": [
    {
     "name": "stdout",
     "output_type": "stream",
     "text": [
      "2.33 s ± 398 ms per loop (mean ± std. dev. of 7 runs, 1 loop each)\n",
      "1.0006280278758999 error = 0.0006280278758998836\n"
     ]
    }
   ],
   "source": [
    "t6 = mc(cos, (0, np.pi / 2), 1000)\n",
    "%timeit mc(cos, (0, np.pi / 2), 1000)\n",
    "print(t6, 'error =', abs(1 - t6))"
   ]
  },
  {
   "cell_type": "markdown",
   "metadata": {},
   "source": [
    "### Evaluating Results from Test Functions\n",
    "\n",
    "Two simple functions used were:\n",
    "1. $f_1(x) = cos(x)$ \n",
    "2. $f_2(x) = e^{-x}$\n",
    "\n",
    "The expected values are $\\int^{+\\infty}_{0}{e^{-x}}dx = 1$ and $\\int^{\\frac{\\pi}{2}}_{0}{cos(x)}dx = 1$\n",
    "\n",
    "$f_1(x)$\n",
    "\n",
    "|Integration Method|Limits of Integration $(l, u)$ |Value Obtained| Error |Percentage Error %| Time Taken|\n",
    "|----|----|----|----||  |\n",
    "|Trapezium |$(0, \\frac{\\pi}{2})$  |0.9931184538732284|0.006881546126771609|0.68815461267|49.9 µs ± 1.94 µs per loop|\n",
    "|Simpson|$(0, \\frac{\\pi}{2})$|0.9931268449501447|0.006873155049855306|0.68731550498|73.6 µs ± 26.9 µs per loop|\n",
    "|Montecarlo|$(0, \\frac{\\pi}{2})$|1.0006280278758999|0.0006280278758998836|0.06280278759|2.33 s ± 398 ms per loop|\n",
    "\n",
    "\n",
    "$f_2(x)$\n",
    "\n",
    "|Integration Method|Limits of Integration $(l, u)$ |Value Obtained| Error |Percentage Error %| Time Taken|\n",
    "|----|----|----|----||  |\n",
    "|Trapezium |$(0, \\infty)$|0.9999983334027783|1.6665972216722835e-06|0.00016665972|10.3 ms ± 717 µs per loop|\n",
    "|Simpson|$(0, \\infty)$|0.9931268449501447|9.999944443395137e-06|0.68731550498|9.01 ms ± 358 µs per loop|\n",
    "|Montecarlo|$(0, \\infty)$|1.0206359310383695|0.02063593103836947|2.06359310384|1.67 s ± 23.6 ms per loop|"
   ]
  },
  {
   "cell_type": "markdown",
   "metadata": {},
   "source": [
    "These results show that the accuracy of the results can vary depending on what type of function we are trying to integrate. \n",
    "We cansee for the cos function the Monte-Carlo method was the most accurate but it took the longest amount of time to produce a result. For the exponential function the trapezuim method prodices the most accurate result. \n",
    "\n",
    "We can see that the Monte-Carlo method takes the most amount of tmie to produce a result compared to the trapezuim and simpson methads. "
   ]
  },
  {
   "cell_type": "markdown",
   "metadata": {},
   "source": [
    "## Application of Numerical Integration Methods to a 1D Problem"
   ]
  },
  {
   "cell_type": "markdown",
   "metadata": {},
   "source": [
    "The objective is to determine the value of the constants and then use them to find the expectation values of the position and momentum and then the uncertainties in position and momentum and the probability of finding a particle in the well. \n",
    "\n",
    "From the the Schrödinger equation, we know the general form of the wavefunction for each region. In this example the particle is an electron ($m_{e} = 0.51099895000 MeV/c^{2}$), the depth of the well, $V_{0} = 14eV$, the width of the well, $L = 4Å = 4 \\times 10^{-10}m$ and the electron is in the ground state of $1.47eV.$ $\\hbar^{2} = 6.5821\\times 10^{-16}eVs.$\n",
    "\n",
    "$k = \\sqrt{\\frac{2mE}{\\hbar^{2}}}$ and $\\kappa = \\sqrt{\\frac{2m(V_{0}-E)}{\\hbar^{2}}}$  \n",
    "\n",
    "Region 1 (outside well left): $\\psi_{1}(x) = Be^{\\kappa x}$\n",
    "\n",
    "Region 2 (inside well): $\\psi_{2}(x) = Ccos(kx)$  $\\space \\space \\space \\space\\large$\n",
    "\n",
    "Region 3 (outside well right): $\\psi_{3}(x) = Ae^{-\\kappa x}$ \n",
    "\n",
    "The normalisation condition states:\n",
    "\n",
    "$\\int_{-\\infty}^{+\\infty}{|\\Psi^{2}|} dx = 1$ = $\\int_{-\\infty}^{+\\infty}{(\\Psi^{*}\\Psi) dx}$ \n",
    "\n",
    "The wavefunction is not complex in this case so $\\Psi^{*}\\Psi = \\Psi^{2}$\n",
    "\n",
    "$\\Psi(x)$ can then be inserted into the normalisation formula we can rearrange to find $B^{2}, A^{2}$ and $C^{2}$\n",
    "\n",
    "$B^{2} = \\Large\\frac{1}{\\int_{-\\infty}^{\\small\\frac{-L}{2}}{(e^{\\kappa x})^{2}}}$, $C^{2} = \\Large\\frac{1}{\\int_{\\small\\frac{-L}{2}}^{\\small\\frac{L}{2}}{cos^{2}(x)}}$ and $A^{2} = \\Large\\frac{1}{\\int_{\\small\\frac{L}{2}}^{+\\infty}{(e^{-\\kappa x})^{2}}}$  $\\space \\space \\large [3]$\n",
    "\n",
    "We will be using SI units for better consistency. These variables will be used to represent each region -- r1 (region 1), r2 (regions 2) and r3 (region 3) "
   ]
  },
  {
   "cell_type": "code",
   "execution_count": 9,
   "metadata": {},
   "outputs": [],
   "source": [
    "m = 9.11e-31\n",
    "V0 = 14 * 1.6e-19\n",
    "E = 1.47 * 1.6e-19\n",
    "L = 4e-10\n",
    "hbar = 6.626e-34 / (2 * np.pi)\n",
    "\n",
    "k = np.sqrt((2 * m * E) / (hbar ** 2))\n",
    "kappa = np.sqrt((2 * m * (V0 - E)) / (hbar ** 2))\n",
    "\n",
    "\n",
    "def r1(x):\n",
    "    return np.exp(kappa * x) ** 2 \n",
    "\n",
    "\n",
    "def r2(x):\n",
    "    return np.cos(k * x) ** 2 \n",
    "\n",
    "\n",
    "def r3(x):\n",
    "    return np.exp(-kappa * x) ** 2  "
   ]
  },
  {
   "cell_type": "markdown",
   "metadata": {},
   "source": [
    "### Finding the coefficients\n",
    "\n",
    "Find B, C and A from:\n",
    "\n",
    "Region 1 (outside well left): $\\psi_{1}(x) = Be^{\\kappa x}$\n",
    "\n",
    "Region 2 (inside well): $\\psi_{2}(x) = Ccos(kx)$  $\\space \\space \\space \\space\\large$\n",
    "\n",
    "Region 3 (outside well right): $\\psi_{3}(x) = Ae^{-\\kappa x}$ \n"
   ]
  },
  {
   "cell_type": "markdown",
   "metadata": {},
   "source": [
    "***Region 2 (inside well) find coefficient C***"
   ]
  },
  {
   "cell_type": "code",
   "execution_count": 10,
   "metadata": {},
   "outputs": [],
   "source": [
    "inwellstep = 1e-16    \n",
    "outwellstep = 1e-9"
   ]
  },
  {
   "cell_type": "code",
   "execution_count": 11,
   "metadata": {},
   "outputs": [
    {
     "name": "stderr",
     "output_type": "stream",
     "text": [
      "C:\\Users\\patel\\Anaconda3\\lib\\site-packages\\ipykernel_launcher.py:20: DeprecationWarning: object of type <class 'float'> cannot be safely interpreted as an integer.\n"
     ]
    },
    {
     "name": "stdout",
     "output_type": "stream",
     "text": [
      "Trapezium method: 63335.130824578344\n",
      "Simpson method: 63335.13126733856\n",
      "Monte-Carlo method: 63332.77147652923\n",
      "63335.122907685705\n"
     ]
    }
   ],
   "source": [
    "C_trap = np.sqrt(1 / trapson(r2, inwellstep, (-L / 2, L / 2), 'trap'))  \n",
    "print('Trapezium method:', C_trap)\n",
    "\n",
    "C_sim = np.sqrt(1 / trapson(r2, inwellstep, (-L / 2, L / 2), 'sim'))\n",
    "print('Simpson method:', C_sim)\n",
    "\n",
    "C_mc = np.sqrt(1 / mc(r2, (-L / 2, L / 2), 2500))\n",
    "print('Monte-Carlo method:', C_mc)\n",
    "\n",
    "Cq = np.sqrt(1 / quad(r2,-L / 2, L / 2)[0])\n",
    "print(Cq)"
   ]
  },
  {
   "cell_type": "markdown",
   "metadata": {},
   "source": [
    "C will be taken to be 6335"
   ]
  },
  {
   "cell_type": "markdown",
   "metadata": {},
   "source": [
    "***Region 1 (outside well left) find coefficient B***"
   ]
  },
  {
   "cell_type": "code",
   "execution_count": 12,
   "metadata": {},
   "outputs": [
    {
     "name": "stderr",
     "output_type": "stream",
     "text": [
      "C:\\Users\\patel\\Anaconda3\\lib\\site-packages\\ipykernel_launcher.py:20: DeprecationWarning: object of type <class 'float'> cannot be safely interpreted as an integer.\n"
     ]
    },
    {
     "name": "stdout",
     "output_type": "stream",
     "text": [
      "Trapezium method: 530.5031777482387\n",
      "Simpson method: 649.7310462040961\n",
      "Monte-Carlo method: inf\n",
      "(0.0, 0.0)\n"
     ]
    },
    {
     "name": "stderr",
     "output_type": "stream",
     "text": [
      "C:\\Users\\patel\\Anaconda3\\lib\\site-packages\\ipykernel_launcher.py:7: RuntimeWarning: divide by zero encountered in double_scalars\n",
      "  import sys\n"
     ]
    }
   ],
   "source": [
    "B_trap = np.sqrt(1 / trapson(r1, 0.01, (-np.inf, -L / 2), 'trap'))\n",
    "print('Trapezium method:', B_trap)\n",
    "\n",
    "B_sim = np.sqrt(1 / trapson(r1, 0.01, (-np.inf, -L / 2), 'sim'))\n",
    "print('Simpson method:', B_sim)\n",
    "\n",
    "B_mc = np.sqrt(1 / mc(r1, (-np.inf, -L / 2), 2500))\n",
    "print('Monte-Carlo method:', B_mc)\n",
    "\n",
    "print(quad(r1, -np.inf, -L/2))"
   ]
  },
  {
   "cell_type": "markdown",
   "metadata": {},
   "source": [
    "Values differ, no conclusive answer."
   ]
  },
  {
   "cell_type": "markdown",
   "metadata": {},
   "source": [
    "***Region 3 (outside well right) find coefficient A***"
   ]
  },
  {
   "cell_type": "code",
   "execution_count": 13,
   "metadata": {},
   "outputs": [
    {
     "name": "stderr",
     "output_type": "stream",
     "text": [
      "C:\\Users\\patel\\Anaconda3\\lib\\site-packages\\ipykernel_launcher.py:20: DeprecationWarning: object of type <class 'float'> cannot be safely interpreted as an integer.\n"
     ]
    },
    {
     "name": "stdout",
     "output_type": "stream",
     "text": [
      "Trapezium method: 530.5031777482387\n",
      "Simpson method: 2.3688238202465947e-06\n",
      "Monte-Carlo method: inf\n"
     ]
    },
    {
     "name": "stderr",
     "output_type": "stream",
     "text": [
      "C:\\Users\\patel\\Anaconda3\\lib\\site-packages\\ipykernel_launcher.py:7: RuntimeWarning: divide by zero encountered in double_scalars\n",
      "  import sys\n"
     ]
    },
    {
     "data": {
      "text/plain": [
       "(1.9314124953958087e-14, 0.0)"
      ]
     },
     "execution_count": 13,
     "metadata": {},
     "output_type": "execute_result"
    }
   ],
   "source": [
    "A_trap = np.sqrt(1 / trapson(r3, 0.01,(L / 2, np.inf), 'trap'))\n",
    "print('Trapezium method:', A_trap)\n",
    "\n",
    "A_sim = trapson(r3, 0.01,(L / 2, np.inf), 'sim')\n",
    "print('Simpson method:', A_sim)\n",
    "\n",
    "A_mc = np.sqrt(1 / mc(r3, (L / 2, np.inf), 2500))\n",
    "print('Monte-Carlo method:', A_mc)\n",
    "\n",
    "quad(r3, L / 2, 3e-8)[0], quad(r3, L / 2, np.inf)[0]"
   ]
  },
  {
   "cell_type": "markdown",
   "metadata": {},
   "source": [
    "No conclusive answer"
   ]
  },
  {
   "cell_type": "markdown",
   "metadata": {},
   "source": [
    "### Calculating B and A Using Boundary Conditions\n",
    "\n",
    "The wavefunction in region 1 and region 3 meet the wavefunction in region 2 at $-\\frac{L}{2}$ and $\\frac{L}{2}$ respectively. \n",
    "\n",
    "After rearranging we obtain:\n",
    "\n",
    "1. $Be^{\\kappa x} = Ccos(-kx) \\rightarrow    B = Ccos(kx)e^{-\\kappa x}$ at $x = -\\frac{L}{2}$\n",
    "\n",
    "\n",
    "2. $Ae^{-\\kappa x} = Ccos(kx)  \\rightarrow    A = Ccos(kx)e^{\\kappa x}$ at $x = \\frac{L}{2}$"
   ]
  },
  {
   "cell_type": "markdown",
   "metadata": {},
   "source": [
    "***Finding B and A***"
   ]
  },
  {
   "cell_type": "code",
   "execution_count": 14,
   "metadata": {},
   "outputs": [
    {
     "name": "stdout",
     "output_type": "stream",
     "text": [
      "B =  768262.576489645\n",
      "A =  768262.576489645\n"
     ]
    }
   ],
   "source": [
    "C = 63335\n",
    "\n",
    "B = C * np.cos(k * (-L / 2)) * np.exp(-kappa * (-L / 2))\n",
    "print('B = ', B)\n",
    "\n",
    "A = C * np.cos(k * (L / 2)) * np.exp(kappa * (L / 2))\n",
    "print('A = ', A)"
   ]
  },
  {
   "cell_type": "code",
   "execution_count": 15,
   "metadata": {},
   "outputs": [
    {
     "data": {
      "text/plain": [
       "True"
      ]
     },
     "execution_count": 15,
     "metadata": {},
     "output_type": "execute_result"
    }
   ],
   "source": [
    "A == B"
   ]
  },
  {
   "cell_type": "markdown",
   "metadata": {},
   "source": [
    "A = B = 768262.576489645\n",
    "\n",
    "We can take the value for A and B to be approximately 768262"
   ]
  },
  {
   "cell_type": "markdown",
   "metadata": {},
   "source": [
    "The wavefunctions for this finite square well have been obtained and are the following:\n",
    "\n",
    "Region 1: $\\psi_{1}(x) = 768263e^{\\kappa x}$\n",
    "\n",
    "Region 2: $\\psi_{2}(x) = 63335cos(kx)$\n",
    "\n",
    "Region 3: $\\psi_{3}(x) = 768263e^{-\\kappa x}$\n",
    "\n",
    "The problem of integrating with infinite bounds must now be adressed. For the function $ f(x) = e^{x}$, or $ g(x) = e^{-x}$, $f(-710) = 0$ and $g(710) = \\infty$. Taking $\\pm709$ ($e^{709}$ has a finite value) as the limits of the total exponent, the region of x we can integrate over has to be equal to this limit. Regarding the two exponential wavefunctions, $\\kappa x \\leq 709$ and $-\\kappa x \\geq -709$. Therefore:\n",
    "\n",
    "$x_{max} = \\frac{709}{\\kappa}$\n",
    "\n",
    "$x_{min} = -\\frac{709}{\\kappa}$\n",
    "\n",
    "We will use trial and error until the exponential wavefunctions stop returning a zero value."
   ]
  },
  {
   "cell_type": "code",
   "execution_count": 16,
   "metadata": {},
   "outputs": [],
   "source": [
    "def psi_tr1(x):\n",
    "    psi = (B * np.exp(kappa * x))   \n",
    "    return psi\n",
    "\n",
    "\n",
    "def psi_tr2(x):\n",
    "    psi = C * np.cos(k * x)          \n",
    "    return psi\n",
    "\n",
    "\n",
    "def psi_tr3(x):\n",
    "    psi = A * np.exp(-kappa * x)        \n",
    "    return psi"
   ]
  },
  {
   "cell_type": "code",
   "execution_count": 17,
   "metadata": {},
   "outputs": [
    {
     "data": {
      "text/plain": [
       "(1.3549863193146328e+308, inf)"
      ]
     },
     "execution_count": 17,
     "metadata": {},
     "output_type": "execute_result"
    }
   ],
   "source": [
    "np.exp(709.5), np.exp(710)"
   ]
  },
  {
   "cell_type": "code",
   "execution_count": 18,
   "metadata": {},
   "outputs": [
    {
     "name": "stderr",
     "output_type": "stream",
     "text": [
      "C:\\Users\\patel\\Anaconda3\\lib\\site-packages\\ipykernel_launcher.py:20: DeprecationWarning: object of type <class 'numpy.float64'> cannot be safely interpreted as an integer.\n"
     ]
    },
    {
     "data": {
      "text/plain": [
       "1677598.3476415905"
      ]
     },
     "execution_count": 18,
     "metadata": {},
     "output_type": "execute_result"
    }
   ],
   "source": [
    "xmax = 372 / kappa\n",
    "xmin = -372 / kappa\n",
    "infbounds = (xmin,xmax) \n",
    "np.sqrt(1 / trapson(r3, outwellstep,(L / 2, infbounds[1]), 'trap'))"
   ]
  },
  {
   "cell_type": "code",
   "execution_count": 19,
   "metadata": {},
   "outputs": [
    {
     "data": {
      "text/plain": [
       "(2.1279548565743146e-156, 2.1279548565743146e-156)"
      ]
     },
     "execution_count": 19,
     "metadata": {},
     "output_type": "execute_result"
    }
   ],
   "source": [
    "psi_tr1(infbounds[0]), psi_tr3(infbounds[1])"
   ]
  },
  {
   "cell_type": "markdown",
   "metadata": {},
   "source": [
    "372 is the limit before the wavefunctions return a zero value."
   ]
  },
  {
   "cell_type": "markdown",
   "metadata": {},
   "source": [
    "### Calculating the Expectation Values for Position of Electron.\n",
    "\n",
    "Expectation value of x is given by:\n",
    "\n",
    "$<x> = \\int_{-\\infty}^{+\\infty}{(\\Psi^{*}x\\Psi) dx}$\n",
    "\n",
    "and $<x^{2}> = \\int_{-\\infty}^{+\\infty}{(\\Psi^{*}x^{2}\\Psi) dx}$\n",
    "\n",
    "\n",
    "The functions bellow return values of $\\Psi^{*}x\\Psi$ and $\\Psi^{*}x^{2}\\Psi$ ."
   ]
  },
  {
   "cell_type": "code",
   "execution_count": 20,
   "metadata": {},
   "outputs": [],
   "source": [
    "A = 768263\n",
    "B = 768263\n",
    "C = 63335\n",
    "\n",
    "\n",
    "def psi_ev_r1(x):\n",
    "    psi = (B * np.exp(kappa * x))   \n",
    "    return psi * psi * x\n",
    "\n",
    "def psi_ev_sqr1(x):\n",
    "    psi = (B * np.exp(kappa * x))   \n",
    "    return psi * psi * x * x\n",
    "\n",
    "\n",
    "def psi_ev_r2(x):\n",
    "    psi = C * np.cos(k * x)          \n",
    "    return psi * psi * x\n",
    "\n",
    "def psi_ev_sqr2(x):\n",
    "    psi = C * np.cos(k * x)          \n",
    "    return psi * psi * x * x\n",
    "\n",
    "\n",
    "def psi_ev_r3(x):\n",
    "    psi = A * np.exp(-kappa * x)       \n",
    "    return psi * psi * x\n",
    "\n",
    "def psi_ev_sqr3(x):\n",
    "    psi = A * np.exp(-kappa * x)        \n",
    "    return psi * psi * x * x"
   ]
  },
  {
   "cell_type": "markdown",
   "metadata": {},
   "source": [
    "***Region 2 Expectation Values***"
   ]
  },
  {
   "cell_type": "code",
   "execution_count": 28,
   "metadata": {},
   "outputs": [
    {
     "name": "stderr",
     "output_type": "stream",
     "text": [
      "C:\\Users\\patel\\Anaconda3\\lib\\site-packages\\ipykernel_launcher.py:20: DeprecationWarning: object of type <class 'float'> cannot be safely interpreted as an integer.\n"
     ]
    },
    {
     "name": "stdout",
     "output_type": "stream",
     "text": [
      "Trapezium Method =  6.832578947069124e-27\n",
      "Simpson Method =  2.796293726669319e-18\n",
      "Monte-Carlo =  8.452903539025018e-14\n",
      "(0.0, 8.056413590118503e-25)\n"
     ]
    }
   ],
   "source": [
    "ev_trap_r2 = trapson(psi_ev_r2, inwellstep , (-L / 2, L / 2), 'trap')\n",
    "print('Trapezium Method = ', ev_trap_r2)\n",
    "\n",
    "ev_sim_r2 = trapson(psi_ev_r2, inwellstep , (-L / 2, L / 2), 'sim')\n",
    "print('Simpson Method = ', ev_sim_r2)\n",
    "\n",
    "ev_mc_r2 = mc(psi_ev_r2, (-L / 2, L / 2), 1000)\n",
    "print('Monte-Carlo = ', ev_mc_r2)\n",
    "\n",
    "ev_q2 = quad(psi_ev_r2, -L / 2, L / 2)\n",
    "print(ev_q2)"
   ]
  },
  {
   "cell_type": "markdown",
   "metadata": {},
   "source": [
    "***Region 1 Expectation Values***"
   ]
  },
  {
   "cell_type": "code",
   "execution_count": 36,
   "metadata": {},
   "outputs": [
    {
     "name": "stderr",
     "output_type": "stream",
     "text": [
      "C:\\Users\\patel\\Anaconda3\\lib\\site-packages\\ipykernel_launcher.py:20: DeprecationWarning: object of type <class 'numpy.float64'> cannot be safely interpreted as an integer.\n"
     ]
    },
    {
     "name": "stdout",
     "output_type": "stream",
     "text": [
      "Trapezium Method =  4.19443870146996e-11\n",
      "Simpson Method =  2.7962924676466396e-11\n",
      "Monte-Carlo =  -2.703195413304319e-12\n",
      "(-2.6763744341322383e-12, 5.233976426815831e-12)\n"
     ]
    }
   ],
   "source": [
    "ev_trap_r1 = trapson(psi_ev_r1, outwellstep, (infbounds[0], -L / 2), 'trap')\n",
    "print('Trapezium Method = ', ev_trap_r1)\n",
    "\n",
    "ev_sim_r1 = trapson(psi_ev_r1, outwellstep, (infbounds[0], -L / 2), 'sim')\n",
    "print('Simpson Method = ', ev_sim_r1)\n",
    "\n",
    "ev_mc_r1 = mc(psi_ev_r1, (infbounds[0], -L / 2), 1000)\n",
    "print('Monte-Carlo = ', ev_mc_r1)\n",
    "\n",
    "ev_q1 = quad(psi_ev_r1, infbounds[0], -L / 2)\n",
    "print(ev_q1)"
   ]
  },
  {
   "cell_type": "markdown",
   "metadata": {},
   "source": [
    "***Region 3 Expectation Values***"
   ]
  },
  {
   "cell_type": "code",
   "execution_count": 34,
   "metadata": {},
   "outputs": [
    {
     "name": "stderr",
     "output_type": "stream",
     "text": [
      "C:\\Users\\patel\\Anaconda3\\lib\\site-packages\\ipykernel_launcher.py:20: DeprecationWarning: object of type <class 'numpy.float64'> cannot be safely interpreted as an integer.\n"
     ]
    },
    {
     "name": "stdout",
     "output_type": "stream",
     "text": [
      "Trapezium Method =  4.19443870146996e-11\n",
      "Simpson Method =  2.7962924676466403e-11\n",
      "Monte-Carlo =  2.5061502102774888e-12\n",
      "(2.6763744341322383e-12, 5.233976426815831e-12)\n"
     ]
    }
   ],
   "source": [
    "ev_trap_r3 = trapson(psi_ev_r3, outwellstep , (L / 2, infbounds[1]), 'trap')\n",
    "print('Trapezium Method = ', ev_trap_r3)\n",
    "\n",
    "ev_sim_r3 = trapson(psi_ev_r3, outwellstep, (L / 2, infbounds[1]), 'sim')\n",
    "print('Simpson Method = ', ev_sim_r3)\n",
    "\n",
    "ev_mc_r3 = mc(psi_ev_r3, (L / 2, infbounds[1]), 1000)\n",
    "print('Monte-Carlo = ', ev_mc_r3)\n",
    "\n",
    "ev_q3 = quad(psi_ev_r3, L / 2, infbounds[1])\n",
    "print(ev_q3)"
   ]
  },
  {
   "cell_type": "markdown",
   "metadata": {},
   "source": [
    "Results produced by the Monte-Carlo Integration Method will be used to work out uncertainties. Due to Monte-Carlo Integration Method and Quad producing results of the same order of magnitude in region 1 and 3. "
   ]
  },
  {
   "cell_type": "markdown",
   "metadata": {},
   "source": [
    "### Calculating Uncertainty in Position ($\\Delta x$)\n",
    "\n",
    "The formula for the uncertainty in position is:\n",
    "\n",
    "Uncertainty in x, $ \\Delta x = \\sqrt{<x^{2}> - <x>^{2}}$\n"
   ]
  },
  {
   "cell_type": "code",
   "execution_count": 37,
   "metadata": {},
   "outputs": [],
   "source": [
    "def uncertainty(expectation, expectation_sq):\n",
    "    \"\"\" Returns the Uncertainty value from two expectation values.\"\"\"\n",
    "    \n",
    "    delta = np.sqrt(expectation_sq - expectation**2)\n",
    "    return delta"
   ]
  },
  {
   "cell_type": "markdown",
   "metadata": {},
   "source": [
    "***Region 2***"
   ]
  },
  {
   "cell_type": "code",
   "execution_count": 38,
   "metadata": {},
   "outputs": [
    {
     "name": "stdout",
     "output_type": "stream",
     "text": [
      "<x^2> = 7.80397535551574e-21\n",
      "Δx = 8.834007137396888e-11\n"
     ]
    }
   ],
   "source": [
    "ev_sq_r2 = mc(psi_ev_sqr2, (-L / 2, L / 2), 1000)\n",
    "print('<x^2> =', ev_sq_r2)\n",
    "\n",
    "Dx_r2 = uncertainty(ev_mc_r2, ev_sq_r2)\n",
    "print('Δx =', Dx_r2)"
   ]
  },
  {
   "cell_type": "markdown",
   "metadata": {},
   "source": [
    "***Region 1***"
   ]
  },
  {
   "cell_type": "code",
   "execution_count": 39,
   "metadata": {},
   "outputs": [
    {
     "name": "stdout",
     "output_type": "stream",
     "text": [
      "<x^2> = 6.119703641497254e-22\n",
      "Δx = 2.4589898306158484e-11\n"
     ]
    }
   ],
   "source": [
    "ev_sq_r1 = mc(psi_ev_sqr1, (infbounds[0], -L / 2), 1000)\n",
    "print('<x^2> =', ev_sq_r1)\n",
    "\n",
    "Dx_r1 = uncertainty(ev_mc_r1, ev_sq_r1)\n",
    "print('Δx =', Dx_r1)"
   ]
  },
  {
   "cell_type": "markdown",
   "metadata": {},
   "source": [
    "***Region 3***"
   ]
  },
  {
   "cell_type": "code",
   "execution_count": 40,
   "metadata": {},
   "outputs": [
    {
     "name": "stdout",
     "output_type": "stream",
     "text": [
      "<x^2> = 6.03253296608567e-22\n",
      "Δx = 2.4433020847453412e-11\n"
     ]
    }
   ],
   "source": [
    "ev_sq_r3 = mc(psi_ev_sqr3, (L / 2, infbounds[1]), 1000)\n",
    "print('<x^2> =', ev_sq_r3)\n",
    "\n",
    "Dx_r3 = uncertainty(ev_mc_r3, ev_sq_r3)\n",
    "print('Δx =', Dx_r3)"
   ]
  },
  {
   "cell_type": "markdown",
   "metadata": {},
   "source": [
    "All the values of uncertainties in position have the same order of magnitude but differing values."
   ]
  },
  {
   "cell_type": "markdown",
   "metadata": {},
   "source": [
    "### Estimating the uncertainty in momentum\n",
    "\n",
    "Heisenberg's uncertainty relations state that:\n",
    "\n",
    "$\\Delta x . \\Delta p \\geq \\frac{\\hbar}{2}$\n",
    "\n",
    "$\\Delta p \\geq \\frac{\\hbar}{2 \\Delta x}$"
   ]
  },
  {
   "cell_type": "code",
   "execution_count": 41,
   "metadata": {},
   "outputs": [],
   "source": [
    "def momentum(delta_x):\n",
    "    \"\"\" Returns an estimate for the uncertainty in momentum.\"\"\"\n",
    "    \n",
    "    D_p = hbar / (2 * delta_x)\n",
    "    \n",
    "    return D_p"
   ]
  },
  {
   "cell_type": "code",
   "execution_count": 42,
   "metadata": {},
   "outputs": [
    {
     "name": "stdout",
     "output_type": "stream",
     "text": [
      "2.1442964907723635e-24 5.968755948037672e-25 2.1580644069986387e-24\n"
     ]
    }
   ],
   "source": [
    "D_p_r1 = momentum(Dx_r1)\n",
    "D_p_r2 = momentum(Dx_r2)\n",
    "D_p_r3 = momentum(Dx_r3)\n",
    "\n",
    "print (D_p_r1, D_p_r2, D_p_r3)"
   ]
  },
  {
   "cell_type": "markdown",
   "metadata": {},
   "source": [
    "Estimations of uncertainties in momentum are:\n",
    "\n",
    "$\\Delta p_{r1} \\geq 2.144 \\times 10^{-24} $\n",
    "\n",
    "$\\Delta p_{r2} \\geq 5.968 \\times 10^{-25} $\n",
    "\n",
    "$\\Delta p_{r3} \\geq 2.158 \\times 10^{-24} $\n",
    "\n",
    "These uncertainty values show the lowest possible value of the uncertaint (does not give an exact value for the momentum)."
   ]
  },
  {
   "cell_type": "markdown",
   "metadata": {},
   "source": [
    "## Results"
   ]
  },
  {
   "cell_type": "markdown",
   "metadata": {},
   "source": [
    "### Unkown Constsnts\n",
    "\n",
    "The integration techniques developed were used to find the unknown constant C for the wavefunction inside the finite potential well, the constants A and B were not found using the same method but were evaluated by using the wavefunctions at the boundary conditions. This faliure of the code was due to problems processing very large and very small numbers and the structure of the algorithm. \n",
    "\n",
    "The values of C obtained are:\n",
    "\n",
    "| Value of $C$  | Method used |\n",
    "|----|----|\n",
    "|63335.130824578344|Trapezium|\n",
    "|63335.13126733856|Simpson |\n",
    "|63332.77147652923|Monte-Carlo|\n",
    "|63335.122907685705|Quad -- `Scipy` |\n",
    "\n",
    "\n",
    "The values of A and B were found using boundary conditions and were found to be the same. A = B = 768262.576489645 and we took the value of A and B to be 768263. "
   ]
  },
  {
   "cell_type": "markdown",
   "metadata": {},
   "source": [
    "### Uncertainty in Position\n",
    "\n",
    "From the equations 2, 3 and 4 the methods of numerical integration were used. Simpson and trapezium methods were not able to calculate expectation values to the same order as the Monte-Carlo and Quad methods. I decided to use the Monte-Carlo values for the calculation of uncertainty in position.  \n",
    "\n",
    "The uncertainty values are:\n",
    "\n",
    "|  Region |Uncertainty in Position $\\Delta x$  |\n",
    "|----|----|\n",
    "|1|2.4589898306158484$\\times 10^{-11}$|\n",
    "|2|8.834007137396888$\\times 10^{-11}$|\n",
    "|3|2.4433020847453412$\\times 10^{-11}$|\n",
    "\n",
    "\n",
    "The results show the uncertainties are all of the same order but are larger inside the well. The reason for this is there are a grater number of loctions the electron could possibly be in thuss the greater uncertainty."
   ]
  },
  {
   "cell_type": "markdown",
   "metadata": {},
   "source": [
    "### Uncertainty in Momentum \n",
    "\n",
    "Using these values of uncertainty in position and the Heisenberg Uncertainty Relation (eq 4), the lowest amount of uncertainty in momentum was found. \n",
    "$\\space \\space \\Delta p .\\Delta x\\geq \\frac{\\hbar}{2}$\n",
    "\n",
    "|  Region |Uncertainty in Momentum $\\Delta p$  |\n",
    "|----|----|\n",
    "|1|$\\Delta p_{r1} \\geq 2.144 \\times 10^{-24} $|\n",
    "|2|$\\Delta p_{r2} \\geq 5.968 \\times 10^{-25} $|\n",
    "|3|$\\Delta p_{r3} \\geq 2.158 \\times 10^{-24} $|\n",
    "\n",
    "\n",
    "Region 2 has a lower uncertainty in mometum than regions 1 and 3 this is due to the fact that region 2 has a higher uncertainty in posotion than the other two regions. \n",
    "\n",
    "These values give us an idea of the lowest value of $\\Delta p$ but is not nessacarily accurate. the value are showing the lower limit of $\\Delta p$. "
   ]
  },
  {
   "cell_type": "markdown",
   "metadata": {},
   "source": [
    "## Conclusion\n",
    "\n",
    "From our results we can see that the trapezuim method produced good approximation for integrals of exponentially decaying parts of wavefunctions for areas outside outside the well. The Monte-Carlo integration method provided more accurate values for trigonometric functions for the areas inside the well. We obtained more accurate approximations by dividing the wavefunctions into three distinct part and choose the best method of numerical integration for each part. \n",
    "\n",
    "This report shows that the simple methods of numerical integration can be adapted to solve more complicated wavefunctions (which are composed of non-complex and simple fuction) to a good level off accuracy.   \n"
   ]
  },
  {
   "cell_type": "markdown",
   "metadata": {},
   "source": [
    "## References \n",
    "\n",
    "[1] https://qmplus.qmul.ac.uk/pluginfile.php/845236/mod_resource/content/3/Finite_well_tex.pdf\n",
    "\n",
    "[2] https://www.wolframalpha.com/input/?i=integrate%20cos%28x%29dx%20from%200%20to%20pi%2F2\n",
    "\n",
    "[3] https://www.wolframalpha.com/input/?i=integrate+e%5E-x+from+0+to+inf\n",
    "\n",
    "[4] https://docs.scipy.org/doc/scipy/reference/generated/scipy.integrate.quad.html\n",
    "\n",
    "[5] Modern Physics 3rd Edition, Kenneth S. Krane, Wiley Publishing, Chapeters 4 and 5 \n"
   ]
  }
 ],
 "metadata": {
  "kernelspec": {
   "display_name": "Python 3",
   "language": "python",
   "name": "python3"
  },
  "language_info": {
   "codemirror_mode": {
    "name": "ipython",
    "version": 3
   },
   "file_extension": ".py",
   "mimetype": "text/x-python",
   "name": "python",
   "nbconvert_exporter": "python",
   "pygments_lexer": "ipython3",
   "version": "3.7.4"
  }
 },
 "nbformat": 4,
 "nbformat_minor": 2
}
